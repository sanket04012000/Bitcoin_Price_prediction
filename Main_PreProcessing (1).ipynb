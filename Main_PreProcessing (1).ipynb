{
  "cells": [
    {
      "cell_type": "code",
      "execution_count": null,
      "metadata": {
        "colab": {
          "base_uri": "https://localhost:8080/"
        },
        "id": "wctIvhzOr4Py",
        "outputId": "e579af21-a84a-4802-ce4d-eaa67e993056"
      },
      "outputs": [
        {
          "output_type": "stream",
          "name": "stdout",
          "text": [
            "Looking in indexes: https://pypi.org/simple, https://us-python.pkg.dev/colab-wheels/public/simple/\n",
            "Collecting pyspark\n",
            "  Downloading pyspark-3.3.0.tar.gz (281.3 MB)\n",
            "\u001b[K     |████████████████████████████████| 281.3 MB 47 kB/s \n",
            "\u001b[?25hCollecting py4j==0.10.9.5\n",
            "  Downloading py4j-0.10.9.5-py2.py3-none-any.whl (199 kB)\n",
            "\u001b[K     |████████████████████████████████| 199 kB 61.1 MB/s \n",
            "\u001b[?25hBuilding wheels for collected packages: pyspark\n",
            "  Building wheel for pyspark (setup.py) ... \u001b[?25l\u001b[?25hdone\n",
            "  Created wheel for pyspark: filename=pyspark-3.3.0-py2.py3-none-any.whl size=281764026 sha256=f54b82a2992ce24dbde47bc7182a4f7c0c95a8b1248867e49df5f1fdec142523\n",
            "  Stored in directory: /root/.cache/pip/wheels/7a/8e/1b/f73a52650d2e5f337708d9f6a1750d451a7349a867f928b885\n",
            "Successfully built pyspark\n",
            "Installing collected packages: py4j, pyspark\n",
            "Successfully installed py4j-0.10.9.5 pyspark-3.3.0\n"
          ]
        }
      ],
      "source": [
        "pip install pyspark"
      ]
    },
    {
      "cell_type": "code",
      "execution_count": null,
      "metadata": {
        "colab": {
          "base_uri": "https://localhost:8080/"
        },
        "id": "6VWWpBPysdKT",
        "outputId": "2da89539-5698-413f-b066-848413d8e5e4"
      },
      "outputs": [
        {
          "output_type": "stream",
          "name": "stdout",
          "text": [
            "Looking in indexes: https://pypi.org/simple, https://us-python.pkg.dev/colab-wheels/public/simple/\n",
            "Collecting fsspec\n",
            "  Downloading fsspec-2022.5.0-py3-none-any.whl (140 kB)\n",
            "\u001b[K     |████████████████████████████████| 140 kB 4.3 MB/s \n",
            "\u001b[?25hInstalling collected packages: fsspec\n",
            "Successfully installed fsspec-2022.5.0\n"
          ]
        }
      ],
      "source": [
        "pip install fsspec"
      ]
    },
    {
      "cell_type": "code",
      "execution_count": null,
      "metadata": {
        "id": "9Zqcyz-gshuM"
      },
      "outputs": [],
      "source": [
        "import pyspark as spark\n",
        "import pandas as pd\n",
        "import warnings\n",
        "import os\n",
        "import glob\n",
        "warnings.filterwarnings('ignore')\n",
        "from pyspark.sql.types import *\n",
        "from pyspark.sql import SQLContext\n",
        "from pyspark.sql.functions import col,udf,monotonically_increasing_id,unix_timestamp,round,avg\n",
        "import re\n",
        "sc = spark.SparkContext()\n",
        "sql = spark.SQLContext(sc)"
      ]
    },
    {
      "cell_type": "code",
      "execution_count": null,
      "metadata": {
        "colab": {
          "base_uri": "https://localhost:8080/",
          "height": 74,
          "resources": {
            "http://localhost:8080/nbextensions/google.colab/files.js": {
              "data": "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",
              "headers": [
                [
                  "content-type",
                  "application/javascript"
                ]
              ],
              "ok": true,
              "status": 200,
              "status_text": ""
            }
          }
        },
        "id": "C1p0sSY8JZ44",
        "outputId": "29bee59d-c533-45f0-bfab-1e7e7e1dc90c"
      },
      "outputs": [
        {
          "output_type": "display_data",
          "data": {
            "text/plain": [
              "<IPython.core.display.HTML object>"
            ],
            "text/html": [
              "\n",
              "     <input type=\"file\" id=\"files-2b9d50c6-f08f-41dd-9d5d-e1d9202f78b0\" name=\"files[]\" multiple disabled\n",
              "        style=\"border:none\" />\n",
              "     <output id=\"result-2b9d50c6-f08f-41dd-9d5d-e1d9202f78b0\">\n",
              "      Upload widget is only available when the cell has been executed in the\n",
              "      current browser session. Please rerun this cell to enable.\n",
              "      </output>\n",
              "      <script src=\"/nbextensions/google.colab/files.js\"></script> "
            ]
          },
          "metadata": {}
        },
        {
          "output_type": "stream",
          "name": "stdout",
          "text": [
            "Saving HISTORICAL_DATA.csv to HISTORICAL_DATA.csv\n"
          ]
        }
      ],
      "source": [
        "from google.colab import files\n",
        "uploaded = files.upload()"
      ]
    },
    {
      "cell_type": "code",
      "execution_count": null,
      "metadata": {
        "id": "FaHg_pzXEs0Y"
      },
      "outputs": [],
      "source": [
        "BtcDF=pd.read_csv('HISTORICAL_DATA.csv',error_bad_lines=False,engine = 'python',header = None)\n",
        "Twdf1 = pd.read_csv('1.csv',error_bad_lines=False,engine = 'python',header = None) \n",
        "Twdf2=pd.read_csv('2.csv',error_bad_lines=False,engine = 'python',header = None) \n",
        "Twdf3=pd.read_csv('3.csv',error_bad_lines=False,engine = 'python',header = None) \n",
        "\n",
        "TwdF = pd.concat([Twdf1,Twdf2,Twdf3])"
      ]
    },
    {
      "cell_type": "code",
      "execution_count": null,
      "metadata": {
        "id": "xTUY7luiGeob",
        "colab": {
          "base_uri": "https://localhost:8080/",
          "height": 954
        },
        "outputId": "209ce8cf-394a-4844-aa07-4bb75b16c235"
      },
      "outputs": [
        {
          "output_type": "display_data",
          "data": {
            "text/plain": [
              "DataFrame[0: string, 1: string]"
            ]
          },
          "metadata": {}
        },
        {
          "output_type": "display_data",
          "data": {
            "text/plain": [
              "DataFrame[0: string, 1: bigint]"
            ]
          },
          "metadata": {}
        },
        {
          "output_type": "stream",
          "name": "stdout",
          "text": [
            "+---------+--------------------+\n",
            "|        0|                   1|\n",
            "+---------+--------------------+\n",
            "|2/13/2022|Drake is betting ...|\n",
            "|2/13/2022|Web3 backers like...|\n",
            "|2/13/2022|Tom Brady has bee...|\n",
            "|2/13/2022|Coinbase says it ...|\n",
            "|2/13/2022|Cryptocurrency pl...|\n",
            "|2/13/2022|The U.S. seized a...|\n",
            "|2/13/2022|Autograph, an NFT...|\n",
            "|2/12/2022|BlockFi is paying...|\n",
            "|2/12/2022|Today’s crypto ha...|\n",
            "|2/12/2022|Web3 backers like...|\n",
            "|2/12/2022|The NBA star and ...|\n",
            "|2/12/2022|Two crypto exchan...|\n",
            "|2/12/2022|European football...|\n",
            "|2/12/2022|Crypto companies ...|\n",
            "|2/12/2022|If you’re watchin...|\n",
            "|2/12/2022|John Legend is st...|\n",
            "|2/12/2022|Opinion | Bitcoin...|\n",
            "|2/12/2022|Web3 backers like...|\n",
            "|2/12/2022|A Super Bowl ad c...|\n",
            "|2/12/2022|U.S. regulators a...|\n",
            "+---------+--------------------+\n",
            "only showing top 20 rows\n",
            "\n",
            "+---------+-----+\n",
            "|        0|    1|\n",
            "+---------+-----+\n",
            "|2/13/2022|42061|\n",
            "|2/12/2022|42205|\n",
            "|2/11/2022|42388|\n",
            "|2/10/2022|43521|\n",
            "| 2/9/2022|44389|\n",
            "| 2/8/2022|44038|\n",
            "| 2/7/2022|43834|\n",
            "| 2/6/2022|42392|\n",
            "| 2/5/2022|41412|\n",
            "| 2/4/2022|41568|\n",
            "| 2/3/2022|37288|\n",
            "| 2/2/2022|36890|\n",
            "| 2/1/2022|38710|\n",
            "|1/31/2022|38499|\n",
            "|1/30/2022|37918|\n",
            "|1/29/2022|38171|\n",
            "|1/28/2022|37745|\n",
            "|1/27/2022|37164|\n",
            "|1/26/2022|36800|\n",
            "|1/25/2022|36951|\n",
            "+---------+-----+\n",
            "only showing top 20 rows\n",
            "\n"
          ]
        }
      ],
      "source": [
        "FullDataTw=sql.createDataFrame(TwdF)\n",
        "FullDataBtc=sql.createDataFrame(BtcDF)\n",
        "display(FullDataTw)\n",
        "display(FullDataBtc)\n",
        "FullDataTw.show()\n",
        "FullDataBtc.show()\n"
      ]
    },
    {
      "cell_type": "code",
      "execution_count": null,
      "metadata": {
        "id": "0iiRSFc_HauO"
      },
      "outputs": [],
      "source": [
        "  FullDataTw.select(monotonically_increasing_id().alias(\"rowId\"),\"*\")\n",
        "  FullDataTw = FullDataTw.withColumnRenamed('0', 'DateTime') #setting column names of Twitter dataset\n",
        "  FullDataTw = FullDataTw.withColumnRenamed('1', 'Tweet')\n",
        "  FullDataBtc = FullDataBtc.withColumnRenamed('0', 'Date_Time') #setting column names of Bitcoin price dataset\n",
        "  FullDataBtc = FullDataBtc.withColumnRenamed('1', 'Price')\n",
        "  FullDataBtc = FullDataBtc.filter(FullDataBtc.Date_Time != 'Date') #to get rid of first row with the header"
      ]
    },
    {
      "cell_type": "code",
      "execution_count": null,
      "metadata": {
        "id": "0g_VP9KFH1n2",
        "colab": {
          "base_uri": "https://localhost:8080/"
        },
        "outputId": "2baa0331-2c47-49ad-9dc8-5fadd097e3ef"
      },
      "outputs": [
        {
          "output_type": "stream",
          "name": "stdout",
          "text": [
            "Looking in indexes: https://pypi.org/simple, https://us-python.pkg.dev/colab-wheels/public/simple/\n",
            "Collecting preprocessor\n",
            "  Downloading preprocessor-1.1.3.tar.gz (4.2 kB)\n",
            "Building wheels for collected packages: preprocessor\n",
            "  Building wheel for preprocessor (setup.py) ... \u001b[?25l\u001b[?25hdone\n",
            "  Created wheel for preprocessor: filename=preprocessor-1.1.3-py3-none-any.whl size=4477 sha256=84f7335e2500786a05c45cf6ce1928e051899ab2ebddea57afb28b0d5cec7615\n",
            "  Stored in directory: /root/.cache/pip/wheels/0e/b7/36/aa37256db62b4bfd35a6f1b5536e9ba843f257b79dcbf3d5f1\n",
            "Successfully built preprocessor\n",
            "Installing collected packages: preprocessor\n",
            "Successfully installed preprocessor-1.1.3\n"
          ]
        }
      ],
      "source": [
        "pip install preprocessor"
      ]
    },
    {
      "cell_type": "code",
      "execution_count": null,
      "metadata": {
        "id": "Vx5J6W_MzBWo",
        "colab": {
          "base_uri": "https://localhost:8080/"
        },
        "outputId": "312f2344-f3a3-4a96-a51a-39965afd02fd"
      },
      "outputs": [
        {
          "output_type": "stream",
          "name": "stdout",
          "text": [
            "Looking in indexes: https://pypi.org/simple, https://us-python.pkg.dev/colab-wheels/public/simple/\n",
            "Collecting tweet-preprocessor\n",
            "  Downloading tweet_preprocessor-0.6.0-py3-none-any.whl (27 kB)\n",
            "Installing collected packages: tweet-preprocessor\n",
            "Successfully installed tweet-preprocessor-0.6.0\n"
          ]
        }
      ],
      "source": [
        " pip install tweet-preprocessor"
      ]
    },
    {
      "cell_type": "code",
      "execution_count": null,
      "metadata": {
        "id": "sZFdFT7THfAC",
        "colab": {
          "base_uri": "https://localhost:8080/"
        },
        "outputId": "83cf831f-9dff-4554-86b0-804c3f27c689"
      },
      "outputs": [
        {
          "output_type": "stream",
          "name": "stdout",
          "text": [
            "+---------+--------------------+\n",
            "| DateTime|               Tweet|\n",
            "+---------+--------------------+\n",
            "|2/13/2022|Drake is betting ...|\n",
            "|2/13/2022|Web3 backers like...|\n",
            "|2/13/2022|Tom Brady has bee...|\n",
            "|2/13/2022|Coinbase says it ...|\n",
            "|2/13/2022|Cryptocurrency pl...|\n",
            "|2/13/2022|The U.S. seized a...|\n",
            "|2/13/2022|Autograph, an NFT...|\n",
            "|2/12/2022|BlockFi is paying...|\n",
            "|2/12/2022|Today’s crypto ha...|\n",
            "|2/12/2022|Web3 backers like...|\n",
            "|2/12/2022|The NBA star and ...|\n",
            "|2/12/2022|Two crypto exchan...|\n",
            "|2/12/2022|European football...|\n",
            "|2/12/2022|Crypto companies ...|\n",
            "|2/12/2022|If you’re watchin...|\n",
            "|2/12/2022|John Legend is st...|\n",
            "|2/12/2022|Opinion | Bitcoin...|\n",
            "|2/12/2022|Web3 backers like...|\n",
            "|2/12/2022|A Super Bowl ad c...|\n",
            "|2/12/2022|U.S. regulators a...|\n",
            "+---------+--------------------+\n",
            "only showing top 20 rows\n",
            "\n"
          ]
        }
      ],
      "source": [
        "Tw_samp = FullDataTw.limit(8500) #taking sample of 100 rows and working on it otherwise remove the limit\n",
        "Tw_samp.show()\n"
      ]
    },
    {
      "cell_type": "code",
      "execution_count": null,
      "metadata": {
        "id": "BiqFhYjXHmTG",
        "colab": {
          "base_uri": "https://localhost:8080/"
        },
        "outputId": "faef274b-3990-44a9-ddf9-ac0107c20283"
      },
      "outputs": [
        {
          "output_type": "stream",
          "name": "stdout",
          "text": [
            "+---------+--------------------+--------------------+\n",
            "| DateTime|               Tweet|       CleanedTweets|\n",
            "+---------+--------------------+--------------------+\n",
            "|2/13/2022|Drake is betting ...|Drake is betting ...|\n",
            "|2/13/2022|Web3 backers like...|Web3 backers like...|\n",
            "|2/13/2022|Tom Brady has bee...|Tom Brady has bee...|\n",
            "|2/13/2022|Coinbase says it ...|Coinbase says it ...|\n",
            "|2/13/2022|Cryptocurrency pl...|Cryptocurrency pl...|\n",
            "|2/13/2022|The U.S. seized a...|The U S seized ab...|\n",
            "|2/13/2022|Autograph, an NFT...|Autograph an NFT ...|\n",
            "|2/12/2022|BlockFi is paying...|BlockFi is paying...|\n",
            "|2/12/2022|Today’s crypto ha...|Todays crypto hat...|\n",
            "|2/12/2022|Web3 backers like...|Web3 backers like...|\n",
            "|2/12/2022|The NBA star and ...|The NBA star and ...|\n",
            "|2/12/2022|Two crypto exchan...|Two crypto exchan...|\n",
            "|2/12/2022|European football...|European football...|\n",
            "|2/12/2022|Crypto companies ...|Crypto companies ...|\n",
            "|2/12/2022|If you’re watchin...|If youre watching...|\n",
            "|2/12/2022|John Legend is st...|John Legend is st...|\n",
            "|2/12/2022|Opinion | Bitcoin...|Opinion Bitcoin b...|\n",
            "|2/12/2022|Web3 backers like...|Web3 backers like...|\n",
            "|2/12/2022|A Super Bowl ad c...|A Super Bowl ad c...|\n",
            "|2/12/2022|U.S. regulators a...|U S regulators ar...|\n",
            "+---------+--------------------+--------------------+\n",
            "only showing top 20 rows\n",
            "\n"
          ]
        }
      ],
      "source": [
        "import preprocessor as p #cleaning each tweet using tweet-preprocessor like removing hashtags,urls,emojis....\n",
        "def function_udf(input_str):\n",
        "    input_str = re.sub(r'RT', '', input_str)\n",
        "    p.set_options(p.OPT.URL, p.OPT.EMOJI,p.OPT.MENTION)\n",
        "    input_str = p.clean(input_str)\n",
        "    return ' '.join(re.sub(\"(@[A-Za-z0-9]+)|([^0-9A-Za-z \\t])|(\\w+:\\/\\/\\S+)\", \" \", input_str).split())\n",
        "func_udf = udf(function_udf, StringType())\n",
        "CleanDF = Tw_samp.withColumn('CleanedTweets', func_udf(Tw_samp['Tweet']))\n",
        "CleanDF.show()"
      ]
    },
    {
      "cell_type": "code",
      "execution_count": null,
      "metadata": {
        "id": "cLi6BAmMm3wL",
        "colab": {
          "base_uri": "https://localhost:8080/"
        },
        "outputId": "c4c27588-cd3b-42a3-fcd6-8abb9c06a75c"
      },
      "outputs": [
        {
          "output_type": "stream",
          "name": "stdout",
          "text": [
            "Looking in indexes: https://pypi.org/simple, https://us-python.pkg.dev/colab-wheels/public/simple/\n",
            "Collecting vaderSentiment\n",
            "  Downloading vaderSentiment-3.3.2-py2.py3-none-any.whl (125 kB)\n",
            "\u001b[K     |████████████████████████████████| 125 kB 5.2 MB/s \n",
            "\u001b[?25hRequirement already satisfied: requests in /usr/local/lib/python3.7/dist-packages (from vaderSentiment) (2.23.0)\n",
            "Requirement already satisfied: idna<3,>=2.5 in /usr/local/lib/python3.7/dist-packages (from requests->vaderSentiment) (2.10)\n",
            "Requirement already satisfied: chardet<4,>=3.0.2 in /usr/local/lib/python3.7/dist-packages (from requests->vaderSentiment) (3.0.4)\n",
            "Requirement already satisfied: urllib3!=1.25.0,!=1.25.1,<1.26,>=1.21.1 in /usr/local/lib/python3.7/dist-packages (from requests->vaderSentiment) (1.24.3)\n",
            "Requirement already satisfied: certifi>=2017.4.17 in /usr/local/lib/python3.7/dist-packages (from requests->vaderSentiment) (2022.6.15)\n",
            "Installing collected packages: vaderSentiment\n",
            "Successfully installed vaderSentiment-3.3.2\n"
          ]
        }
      ],
      "source": [
        "pip install vaderSentiment"
      ]
    },
    {
      "cell_type": "code",
      "execution_count": null,
      "metadata": {
        "id": "c6c6vaMYHuga",
        "colab": {
          "base_uri": "https://localhost:8080/"
        },
        "outputId": "4c374f4e-1236-4098-abca-86cec18959c0"
      },
      "outputs": [
        {
          "output_type": "stream",
          "name": "stdout",
          "text": [
            "+---------+--------------------+--------------------+-----+-----+-----+-------+\n",
            "| DateTime|               Tweet|       CleanedTweets|p_neg|p_neu|p_pos| p_comp|\n",
            "+---------+--------------------+--------------------+-----+-----+-----+-------+\n",
            "|2/13/2022|Drake is betting ...|Drake is betting ...|  0.0|0.837|0.163| 0.5994|\n",
            "|2/13/2022|Web3 backers like...|Web3 backers like...|  0.0|0.898|0.102| 0.3612|\n",
            "|2/13/2022|Tom Brady has bee...|Tom Brady has bee...|  0.0|0.657|0.343| 0.7003|\n",
            "|2/13/2022|Coinbase says it ...|Coinbase says it ...|0.098|0.722| 0.18| 0.1531|\n",
            "|2/13/2022|Cryptocurrency pl...|Cryptocurrency pl...|  0.0|0.777|0.223| 0.5574|\n",
            "|2/13/2022|The U.S. seized a...|The U S seized ab...|0.138|0.862|  0.0|-0.4939|\n",
            "|2/13/2022|Autograph, an NFT...|Autograph an NFT ...|  0.0|  1.0|  0.0|    0.0|\n",
            "|2/12/2022|BlockFi is paying...|BlockFi is paying...|  0.0|  1.0|  0.0|    0.0|\n",
            "|2/12/2022|Today’s crypto ha...|Todays crypto hat...|0.325|0.675|  0.0|-0.8016|\n",
            "|2/12/2022|Web3 backers like...|Web3 backers like...|  0.0|0.898|0.102| 0.3612|\n",
            "|2/12/2022|The NBA star and ...|The NBA star and ...|  0.0| 0.85| 0.15| 0.3182|\n",
            "|2/12/2022|Two crypto exchan...|Two crypto exchan...|  0.0|  1.0|  0.0|    0.0|\n",
            "|2/12/2022|European football...|European football...|  0.0|0.854|0.146| 0.4404|\n",
            "|2/12/2022|Crypto companies ...|Crypto companies ...|  0.0|  1.0|  0.0|    0.0|\n",
            "|2/12/2022|If you’re watchin...|If youre watching...|  0.0|0.682|0.318| 0.8126|\n",
            "|2/12/2022|John Legend is st...|John Legend is st...|0.108|0.798|0.094|-0.0772|\n",
            "|2/12/2022|Opinion | Bitcoin...|Opinion Bitcoin b...|0.257|0.743|  0.0|-0.5413|\n",
            "|2/12/2022|Web3 backers like...|Web3 backers like...|  0.0|0.898|0.102| 0.3612|\n",
            "|2/12/2022|A Super Bowl ad c...|A Super Bowl ad c...|  0.0|0.632|0.368| 0.8519|\n",
            "|2/12/2022|U.S. regulators a...|U S regulators ar...|  0.0|  1.0|  0.0|    0.0|\n",
            "+---------+--------------------+--------------------+-----+-----+-----+-------+\n",
            "only showing top 20 rows\n",
            "\n"
          ]
        }
      ],
      "source": [
        "from vaderSentiment.vaderSentiment import SentimentIntensityAnalyzer\n",
        "analyser = SentimentIntensityAnalyzer()\n",
        "def senti_score_udf(sentence):\n",
        "    snt = analyser.polarity_scores(sentence)\n",
        "    return ([snt['neg'], snt['neu'], snt['pos'], snt['compound']])\n",
        "func_udf2 = udf(senti_score_udf, ArrayType(FloatType()))\n",
        "CleanDF = CleanDF.withColumn('p_neg', func_udf2(CleanDF['CleanedTweets'])[0])\n",
        "CleanDF = CleanDF.withColumn('p_neu', func_udf2(CleanDF['CleanedTweets'])[1])\n",
        "CleanDF = CleanDF.withColumn('p_pos', func_udf2(CleanDF['CleanedTweets'])[2])\n",
        "CleanDF = CleanDF.withColumn('p_comp', func_udf2(CleanDF['CleanedTweets'])[3])\n",
        "CleanDF.show()"
      ]
    },
    {
      "cell_type": "code",
      "execution_count": null,
      "metadata": {
        "id": "MnoUFjGznepI",
        "colab": {
          "base_uri": "https://localhost:8080/"
        },
        "outputId": "3d2d3407-2662-41e9-a7ad-151ab3143ac9"
      },
      "outputs": [
        {
          "output_type": "stream",
          "name": "stdout",
          "text": [
            "DataFrame[DateTime: string, Cleaned_Tweets: string, p_neg: float, p_neu: float, p_pos: float, p_comp: float]\n",
            "+---------+--------------------+-----+-----+-----+------+\n",
            "| DateTime|      Cleaned_Tweets|p_neg|p_neu|p_pos|p_comp|\n",
            "+---------+--------------------+-----+-----+-----+------+\n",
            "|2/13/2022|Drake is betting ...|  0.0|0.837|0.163|0.5994|\n",
            "|2/13/2022|Web3 backers like...|  0.0|0.898|0.102|0.3612|\n",
            "|2/13/2022|Tom Brady has bee...|  0.0|0.657|0.343|0.7003|\n",
            "|2/13/2022|Coinbase says it ...|0.098|0.722| 0.18|0.1531|\n",
            "|2/13/2022|Cryptocurrency pl...|  0.0|0.777|0.223|0.5574|\n",
            "+---------+--------------------+-----+-----+-----+------+\n",
            "only showing top 5 rows\n",
            "\n"
          ]
        }
      ],
      "source": [
        "FinalTw = CleanDF.selectExpr(\"DateTime as DateTime\", \"CleanedTweets as Cleaned_Tweets\", \"p_neg\",\"p_neu\",\"p_pos\",\"p_comp\")\n",
        "print(FinalTw)\n",
        "FinalTw.show(5) #selecting necessary columns"
      ]
    },
    {
      "cell_type": "code",
      "execution_count": null,
      "metadata": {
        "id": "MTsDu2vbGLVt",
        "colab": {
          "base_uri": "https://localhost:8080/"
        },
        "outputId": "bbb2158f-5328-469b-b462-3bdb660289ab"
      },
      "outputs": [
        {
          "output_type": "stream",
          "name": "stdout",
          "text": [
            "+---------+-----+\n",
            "|Date_Time|Price|\n",
            "+---------+-----+\n",
            "|2/13/2022|42061|\n",
            "|2/12/2022|42205|\n",
            "|2/11/2022|42388|\n",
            "|2/10/2022|43521|\n",
            "| 2/9/2022|44389|\n",
            "+---------+-----+\n",
            "only showing top 5 rows\n",
            "\n"
          ]
        }
      ],
      "source": [
        "FullDataBtc.show(5)"
      ]
    },
    {
      "cell_type": "code",
      "execution_count": null,
      "metadata": {
        "id": "na7QW229rTGD"
      },
      "outputs": [],
      "source": [
        "# CleandfBtc = FullDataBtc.withColumn(\"Cleaned_BTC_Time_New\",FullDataBtc['Cleaned_BTC_Time'].cast(TimestampType()))\n",
        "# FinalBtc = FinalBtc.selectExpr(\"Cleaned_BTC_Time_New as DateTime\", \"Price\")\n",
        "# FinalBtc = FinalBtc.withColumn(\"Price\",FinalBtc['Price'].cast(DoubleType()))\n",
        "# FinalBtc.show(10)#In this cell, casting to timesstamp, changing col names and casting price type to double"
      ]
    },
    {
      "cell_type": "code",
      "execution_count": null,
      "metadata": {
        "id": "VzMDDfGwrkMV",
        "colab": {
          "base_uri": "https://localhost:8080/"
        },
        "outputId": "4992da68-91d0-42c7-f32b-235427a8c088"
      },
      "outputs": [
        {
          "output_type": "stream",
          "name": "stdout",
          "text": [
            "root\n",
            " |-- DateTime: string (nullable = true)\n",
            " |-- Cleaned_Tweets: string (nullable = true)\n",
            " |-- p_neg: float (nullable = true)\n",
            " |-- p_neu: float (nullable = true)\n",
            " |-- p_pos: float (nullable = true)\n",
            " |-- p_comp: float (nullable = true)\n",
            "\n",
            "+---------+--------------------+-----+-----+-----+-------+\n",
            "| DateTime|      Cleaned_Tweets|p_neg|p_neu|p_pos| p_comp|\n",
            "+---------+--------------------+-----+-----+-----+-------+\n",
            "|2/13/2022|Drake is betting ...|  0.0|0.837|0.163| 0.5994|\n",
            "|2/13/2022|Web3 backers like...|  0.0|0.898|0.102| 0.3612|\n",
            "|2/13/2022|Tom Brady has bee...|  0.0|0.657|0.343| 0.7003|\n",
            "|2/13/2022|Coinbase says it ...|0.098|0.722| 0.18| 0.1531|\n",
            "|2/13/2022|Cryptocurrency pl...|  0.0|0.777|0.223| 0.5574|\n",
            "|2/13/2022|The U S seized ab...|0.138|0.862|  0.0|-0.4939|\n",
            "|2/13/2022|Autograph an NFT ...|  0.0|  1.0|  0.0|    0.0|\n",
            "|2/12/2022|BlockFi is paying...|  0.0|  1.0|  0.0|    0.0|\n",
            "|2/12/2022|Todays crypto hat...|0.325|0.675|  0.0|-0.8016|\n",
            "|2/12/2022|Web3 backers like...|  0.0|0.898|0.102| 0.3612|\n",
            "+---------+--------------------+-----+-----+-----+-------+\n",
            "only showing top 10 rows\n",
            "\n"
          ]
        }
      ],
      "source": [
        "FinalTw.printSchema()\n",
        "FinalTw.count()\n",
        "FinalTw.show(10)"
      ]
    },
    {
      "cell_type": "code",
      "execution_count": null,
      "metadata": {
        "id": "wML3tlstrthD",
        "colab": {
          "base_uri": "https://localhost:8080/"
        },
        "outputId": "5fa16056-cc51-4393-81e7-813879304284"
      },
      "outputs": [
        {
          "output_type": "stream",
          "name": "stdout",
          "text": [
            "root\n",
            " |-- Date_Time: string (nullable = true)\n",
            " |-- Price: long (nullable = true)\n",
            "\n"
          ]
        },
        {
          "output_type": "execute_result",
          "data": {
            "text/plain": [
              "1556"
            ]
          },
          "metadata": {},
          "execution_count": 19
        }
      ],
      "source": [
        "FullDataBtc.printSchema()\n",
        "FullDataBtc.count()"
      ]
    },
    {
      "cell_type": "code",
      "execution_count": null,
      "metadata": {
        "id": "MIglmvXWrxVj"
      },
      "outputs": [],
      "source": [
        "# dt_truncated = ((round(unix_timestamp(col('DateTime')) / 3600) * 3600).cast('timestamp'))\n",
        "# print(dt_truncated)\n",
        "# FinalTw = FinalTw.withColumn('dt_truncated', dt_truncated)\n",
        "# FinalTw = FinalTw.selectExpr(\"dt_truncated as Date_Time\",\"Cleaned_Tweets\",\"p_neg\",\"p_neu\",\"p_pos\",\"p_comp\")\n",
        "# UTC = ((unix_timestamp(col('Date_Time'))+ 5*60*60).cast('timestamp'))\n",
        "# FinalTw = FinalTw.withColumn('UTC', UTC)\n",
        "# FinalTw = FinalTw.selectExpr(\"UTC as Date_Time\",\"Cleaned_Tweets\",\"p_neg\",\"p_neu\",\"p_pos\",\"p_comp\")\n",
        "# FinalTw.show(10)"
      ]
    },
    {
      "cell_type": "code",
      "execution_count": null,
      "metadata": {
        "id": "HtEN9c6Yr84i",
        "colab": {
          "base_uri": "https://localhost:8080/"
        },
        "outputId": "749c8211-894f-47e4-c9c2-803d8af9e083"
      },
      "outputs": [
        {
          "output_type": "stream",
          "name": "stdout",
          "text": [
            "DataFrame[DateTime: string, P_Neg: double, P_Neu: double, P_Pos: double, P_Comp: double]\n",
            "+--------+-------------------+-----------------+-------------------+------------------+\n",
            "|DateTime|              P_Neg|            P_Neu|              P_Pos|            P_Comp|\n",
            "+--------+-------------------+-----------------+-------------------+------------------+\n",
            "|1/4/2022|0.03385714299622036|0.886952383177621|0.07919047666447503|0.1046476172549384|\n",
            "+--------+-------------------+-----------------+-------------------+------------------+\n",
            "only showing top 1 row\n",
            "\n"
          ]
        }
      ],
      "source": [
        "FinalTw.registerTempTable(\"temp\")\n",
        "FinalTw_avg = sql.sql(\"SELECT DateTime As DateTime,AVG(p_neg) as P_Neg,AVG(p_neu) as P_Neu,AVG(p_pos) as P_Pos,AVG(p_comp) as P_Comp FROM temp GROUP BY DateTime\")\n",
        "print(FinalTw_avg)\n",
        "#FinalTw_avg = FinalTw.select(\"DateTime\",\"polarity\",\"subj\",\"p_pos\",\"p_neg\").groupBy(\"DateTime\").agg(avg(col(\"polarity\",\"subj\",\"p_pos\",\"p_neg\")))\n",
        "FinalTw_avg.show(1)"
      ]
    },
    {
      "cell_type": "code",
      "execution_count": null,
      "metadata": {
        "id": "BALlgZtAsDct",
        "colab": {
          "base_uri": "https://localhost:8080/"
        },
        "outputId": "68a76741-de04-4855-85bd-4e032a484e1f"
      },
      "outputs": [
        {
          "output_type": "stream",
          "name": "stdout",
          "text": [
            "+---------+------------------------------------------+\n",
            "| DateTime|concat_ws( , collect_list(Cleaned_Tweets))|\n",
            "+---------+------------------------------------------+\n",
            "| 1/1/2020|                      The trend is your...|\n",
            "| 1/1/2022|                      Ten of twelve Bit...|\n",
            "|1/10/2020|                      Bitcoin Beginners...|\n",
            "|1/10/2022|                      THE COIN BEHIND T...|\n",
            "|1/11/2019|                      My latest work co...|\n",
            "|1/11/2020|                        Who are the mos...|\n",
            "|1/11/2021|                      Bitcoin at 10 000...|\n",
            "|1/11/2022|                      Got USD bitcoin m...|\n",
            "|1/12/2019|                      Bitcoin destroys ...|\n",
            "|1/12/2020|                      The Bitcoin netwo...|\n",
            "+---------+------------------------------------------+\n",
            "only showing top 10 rows\n",
            "\n"
          ]
        }
      ],
      "source": [
        "from pyspark.sql import functions as f\n",
        "df_with_text = FinalTw.groupby(\"DateTime\").agg(f.concat_ws(\" \", f.collect_list(FinalTw.Cleaned_Tweets)))\n",
        "df_with_text.show(10)"
      ]
    },
    {
      "cell_type": "code",
      "source": [
        "FinalTw_avg.count()\n",
        "from pyspark.sql.functions import *\n",
        "df_sort = FinalTw_avg.sort(asc(\"DateTime\"))\n",
        "df_sort.show(1)"
      ],
      "metadata": {
        "colab": {
          "base_uri": "https://localhost:8080/"
        },
        "id": "2rQnEMqQa59O",
        "outputId": "4b1dab8e-96a4-4df9-e913-c51447346963"
      },
      "execution_count": null,
      "outputs": [
        {
          "output_type": "stream",
          "name": "stdout",
          "text": [
            "+--------+-----+------------------+--------------------+-------------------+\n",
            "|DateTime|P_Neg|             P_Neu|               P_Pos|             P_Comp|\n",
            "+--------+-----+------------------+--------------------+-------------------+\n",
            "|1/1/2020|  0.0|0.9449999928474426|0.054999999701976776|0.24695000052452087|\n",
            "+--------+-----+------------------+--------------------+-------------------+\n",
            "only showing top 1 row\n",
            "\n"
          ]
        }
      ]
    },
    {
      "cell_type": "code",
      "execution_count": null,
      "metadata": {
        "id": "dYpudFj6sPFV",
        "colab": {
          "base_uri": "https://localhost:8080/"
        },
        "outputId": "9efead3e-6d92-4a1a-d79f-e6da47de357a"
      },
      "outputs": [
        {
          "output_type": "stream",
          "name": "stdout",
          "text": [
            "+---------+--------------------+------------------+--------------------+--------------------+-----+\n",
            "| DateTime|               P_Neg|             P_Neu|               P_Pos|              P_Comp|Price|\n",
            "+---------+--------------------+------------------+--------------------+--------------------+-----+\n",
            "| 1/1/2020|                 0.0|0.9449999928474426|0.054999999701976776| 0.24695000052452087| 7200|\n",
            "| 1/1/2022| 0.08234999924898148| 0.785499992966652| 0.13220000118017197| 0.11552499942481517|47738|\n",
            "|1/10/2020|0.026937499176710844|0.7418125011026859| 0.16875000018626451| 0.30407499615103006| 8187|\n",
            "|1/10/2022|0.017937499564141035|0.8960624970495701| 0.08600000059232116| 0.20977499801665545|41832|\n",
            "|1/11/2019|                 0.0|0.8600000143051147| 0.14000000059604645| 0.38179999589920044| 3617|\n",
            "|1/11/2020|                 0.0|           0.40625|             0.09375| 0.18410000205039978| 8024|\n",
            "|1/11/2021|                 0.0|               1.0|                 0.0|                 0.0|35544|\n",
            "|1/11/2022| 0.10105714265789305|0.8151714282376425|0.055171429472310206|-0.18081428493772234|42733|\n",
            "|1/12/2019|  0.2200000062584877|0.7199999988079071| 0.05950000137090683| -0.5171500146389008| 3597|\n",
            "|1/12/2020|0.016200000047683717|0.7164000153541565| 0.26739999651908875| 0.30264000296592714| 8188|\n",
            "|1/12/2021| 0.07659999877214432|0.7827999949455261| 0.14039999693632127|  0.0323199987411499|34076|\n",
            "|1/12/2022| 0.05250000036679781|0.8094230752724868|0.061115385534671635|1.923066492264087...|43901|\n",
            "|1/13/2019|0.048499999567866325|  0.81700000166893| 0.13449999690055847|  0.2002249974757433| 3490|\n",
            "|1/13/2020| 0.06400000024586916|0.8382500037550926| 0.09762499947100878| 0.06466250494122505| 8111|\n",
            "|1/13/2021|  0.0949999988079071|0.9049999713897705|                 0.0|-0.22630000114440918|37382|\n",
            "|1/13/2022|0.028414634033674148|0.8625853643184755| 0.08458536554400514| 0.12576829187753724|42560|\n",
            "|1/14/2020|0.029562499839812517|0.7373124994337559|  0.1706875003874302| 0.22454375075176358| 8829|\n",
            "|1/14/2021|                 0.0|0.6136666735013326|0.052999998132387795| 0.05930000046888987|39176|\n",
            "|1/14/2022|0.024687500204890966|0.8559374995529652|0.056875000009313226|  0.0864906245842576|43073|\n",
            "|1/15/2020|  0.0340000010199017|0.8655555579397414| 0.10044444269604152| 0.14437777466244167| 8818|\n",
            "+---------+--------------------+------------------+--------------------+--------------------+-----+\n",
            "only showing top 20 rows\n",
            "\n"
          ]
        }
      ],
      "source": [
        "FinalTw_avg.registerTempTable(\"avgs\")\n",
        "FullDataBtc.registerTempTable(\"prices\")\n",
        "results = sql.sql(\"SELECT DateTime, P_Neg, P_Neu, P_Pos, P_Comp, Price FROM avgs JOIN prices ON avgs.DateTime = prices.Date_Time order by avgs.DateTime\")\n",
        "#results = results.selectExpr(\"DateTime\",\"avg(polarity)\",\"avg(subj)\",\"avg(p_pos)\",\"avg(p_neg)\",\"Price\") #Use this line if you are using text blob package\n",
        "results.show()"
      ]
    },
    {
      "cell_type": "code",
      "execution_count": null,
      "metadata": {
        "id": "GTlUcB5Ps4Yz"
      },
      "outputs": [],
      "source": [
        "results.repartition(1).write.csv(\"DataforModelExec.csv\") #this will write df to single csv instead of writing diff csv acc to partitions "
      ]
    }
  ],
  "metadata": {
    "colab": {
      "provenance": []
    },
    "kernelspec": {
      "display_name": "Python 3",
      "name": "python3"
    },
    "language_info": {
      "name": "python"
    }
  },
  "nbformat": 4,
  "nbformat_minor": 0
}