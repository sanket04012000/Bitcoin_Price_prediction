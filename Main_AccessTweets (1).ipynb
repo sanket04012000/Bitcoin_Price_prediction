{
  "nbformat": 4,
  "nbformat_minor": 0,
  "metadata": {
    "colab": {
      "provenance": []
    },
    "kernelspec": {
      "name": "python3",
      "display_name": "Python 3"
    },
    "language_info": {
      "name": "python"
    }
  },
  "cells": [
    {
      "cell_type": "code",
      "execution_count": null,
      "metadata": {
        "colab": {
          "base_uri": "https://localhost:8080/"
        },
        "id": "efXjKiy_I5fG",
        "outputId": "1ffd3c44-597e-49e2-e7fb-205df8b89d7e"
      },
      "outputs": [
        {
          "output_type": "stream",
          "name": "stdout",
          "text": [
            "getting tweets before 1536060772735926276\n",
            "...400 tweets downloaded so far\n",
            "getting tweets before 1521520485787324415\n",
            "...600 tweets downloaded so far\n",
            "getting tweets before 1508187352950267916\n",
            "...800 tweets downloaded so far\n",
            "getting tweets before 1491748765073645573\n",
            "...1000 tweets downloaded so far\n",
            "getting tweets before 1437440170471559171\n",
            "...1199 tweets downloaded so far\n",
            "getting tweets before 1359963955188350983\n",
            "...1395 tweets downloaded so far\n",
            "getting tweets before 1316976969553186816\n",
            "...1592 tweets downloaded so far\n",
            "getting tweets before 1294527048489164799\n",
            "...1791 tweets downloaded so far\n",
            "getting tweets before 1193685869145673727\n",
            "...1991 tweets downloaded so far\n",
            "getting tweets before 1158076405080477695\n",
            "...2187 tweets downloaded so far\n",
            "getting tweets before 1104581193159208959\n",
            "...2378 tweets downloaded so far\n",
            "getting tweets before 1070296512666624000\n",
            "...2573 tweets downloaded so far\n",
            "getting tweets before 1010883828293005311\n",
            "...2772 tweets downloaded so far\n",
            "getting tweets before 938838975422304256\n",
            "...2963 tweets downloaded so far\n",
            "getting tweets before 929126994746531840\n",
            "...2963 tweets downloaded so far\n"
          ]
        }
      ],
      "source": [
        "import tweepy \n",
        "import csv\n",
        "\n",
        "#Twitter API credentials\n",
        "consumer_key = \"qt9Vf6Dz5RBl6sSJDx3lNihU5\"\n",
        "consumer_secret = \"esnokj8Qff8GPdj0wYIr9QFlMQEsnbi35FzKmi0cxMb6ucv3eY\"\n",
        "access_key = \"1489466446560120833-0AXqsLZOREOqIvtXOJg5Ttbwj8fJAd\"\n",
        "access_secret = \"910U61zA9cN1wjtO7Upm0HGxnJXkJU8JE1oXDmxbLlAbj\"\n",
        "\n",
        "\n",
        "def get_all_tweets(screen_name):\n",
        "    #Twitter only allows access to a users most recent 3240 tweets with this method\n",
        "    \n",
        "    #authorize twitter, initialize tweepy\n",
        "    auth = tweepy.OAuthHandler(consumer_key, consumer_secret)\n",
        "    auth.set_access_token(access_key, access_secret)\n",
        "    api = tweepy.API(auth)\n",
        "    \n",
        "    #initialize a list to hold all the tweepy Tweets\n",
        "    alltweets = []  \n",
        "    \n",
        "    #make initial request for most recent tweets (200 is the maximum allowed count)\n",
        "    new_tweets = api.user_timeline(screen_name = screen_name,count=2000)\n",
        "    \n",
        "    #save most recent tweets\n",
        "    alltweets.extend(new_tweets)\n",
        "    \n",
        "    #save the id of the oldest tweet less one\n",
        "    oldest = alltweets[-1].id - 1\n",
        "    \n",
        "    #keep grabbing tweets until there are no tweets left to grab\n",
        "    while len(new_tweets) > 0:\n",
        "        print(f\"getting tweets before {oldest}\")\n",
        "        \n",
        "        #all subsiquent requests use the max_id param to prevent duplicates\n",
        "        new_tweets = api.user_timeline(screen_name = screen_name,count=200,max_id=oldest)\n",
        "        \n",
        "        #save most recent tweets\n",
        "        alltweets.extend(new_tweets)\n",
        "        \n",
        "        #update the id of the oldest tweet less one\n",
        "        oldest = alltweets[-1].id - 1\n",
        "        \n",
        "        print(f\"...{len(alltweets)} tweets downloaded so far\")\n",
        "    \n",
        "    #transform the tweepy tweets into a 2D array that will populate the csv \n",
        "    outtweets = [[tweet.id_str, tweet.created_at, tweet.text] for tweet in alltweets]\n",
        "    \n",
        "    #write the csv  \n",
        "    with open(f'new_{screen_name}_tweets.csv', 'w') as f:\n",
        "        writer = csv.writer(f)\n",
        "        writer.writerow([\"id\",\"created_at\",\"text\"])\n",
        "        writer.writerows(outtweets)\n",
        "    \n",
        "    pass\n",
        "\n",
        "\n",
        "if __name__ == '__main__':\n",
        "\t#pass in the username of the account you want to download\n",
        "\tget_all_tweets(\"BTC\")"
      ]
    }
  ]
}